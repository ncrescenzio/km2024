{
 "cells": [
  {
   "cell_type": "code",
   "execution_count": 7,
   "id": "07443815-d648-4d57-9095-063ddef36d1c",
   "metadata": {},
   "outputs": [],
   "source": [
    "import yaml\n",
    "import ics\n",
    "import datetime\n",
    "import pytz\n",
    "import re"
   ]
  },
  {
   "cell_type": "code",
   "execution_count": 8,
   "id": "10f4f707-727e-46d7-81c0-c3dcef5f92da",
   "metadata": {},
   "outputs": [],
   "source": [
    "with open('_data/speakers.yml','r') as file:\n",
    "    speakers = yaml.safe_load(file)\n",
    "with open('_data/schedule.yml','r') as file:\n",
    "    schedule = yaml.safe_load(file)\n",
    "with open('_data/talks.yml','r') as file:\n",
    "    talks = yaml.safe_load(file)"
   ]
  },
  {
   "cell_type": "code",
   "execution_count": 9,
   "id": "60af135a-4577-465c-8dd4-8963776fd199",
   "metadata": {},
   "outputs": [],
   "source": [
    "days = [\"06/11/2024\",\"07/11/2024\",\"08/11/2024\"]"
   ]
  },
  {
   "cell_type": "code",
   "execution_count": 10,
   "id": "9e8b4edb-4705-41ce-be79-f0bb16e7f728",
   "metadata": {},
   "outputs": [
    {
     "data": {
      "text/plain": [
       "{'name': 'Pooyan Dadvand', 'affiliation': 'Altair (Spain)'}"
      ]
     },
     "execution_count": 10,
     "metadata": {},
     "output_type": "execute_result"
    }
   ],
   "source": [
    "speakers[talks[\"intro2\"][\"speaker\"]]"
   ]
  },
  {
   "cell_type": "code",
   "execution_count": 11,
   "id": "11053ce6-60ca-4b6b-aa8c-259196d7c27b",
   "metadata": {},
   "outputs": [],
   "source": [
    "def buildevent(title, start, end, description=\"\"):\n",
    "    event = ics.Event()\n",
    "    event.name = title\n",
    "    tz = pytz.timezone('Europe/Rome')\n",
    "    event.begin = tz.localize(datetime.datetime.strptime(start, \"%d/%m/%Y %H:%M\"))\n",
    "    event.end   = tz.localize(datetime.datetime.strptime(end, \"%d/%m/%Y %H:%M\"))\n",
    "    event.description = description\n",
    "    #event.location = \"Department of Mathematics 'Tullio Levi-Civita', University of Padova - Italy\"\n",
    "    event.location = \"Department of Mathematics 'Tullio Levi-Civita', Torre Archimede, Via Trieste, 63, 35121, Padova, Italy\" \n",
    "    #event.url = \"https://github.com/KratosMultiphysics/Kratos\"\n",
    "    event.url = \"https://kratosmultiphysics.github.io/Kratos/pages/Kratos/Workshops/2024_UNIPD/Event/index.html\"\n",
    "    return event"
   ]
  },
  {
   "cell_type": "code",
   "execution_count": 12,
   "id": "b86be24a-9327-4c5f-ac22-e6d47b3fa870",
   "metadata": {},
   "outputs": [
    {
     "name": "stdout",
     "output_type": "stream",
     "text": [
      "day1\n",
      "-----\n",
      "day2\n",
      "-----\n",
      "day3\n",
      "-----\n"
     ]
    }
   ],
   "source": [
    "calendar = ics.Calendar()\n",
    "\n",
    "for (i,day) in enumerate(schedule[\"days\"]):\n",
    "    print(day[\"name\"])\n",
    "    \n",
    "    for session in day[\"sessions\"]:\n",
    "\n",
    "        #title = session[\"title\"]\n",
    "        if \"talks\" in session.keys():\n",
    "            for talk in session[\"talks\"]:\n",
    "                talksp = talks[talk[\"label\"]]\n",
    "                sp_list = talksp[\"speaker\"]\n",
    "                if type(sp_list) is str: sp_list = [sp_list]\n",
    "                name_affiliation = []\n",
    "                for speaker in sp_list:\n",
    "                    sp_dict = speakers[speaker]\n",
    "                    speaker_name = sp_dict[\"name\"]\n",
    "                    speaker_affiliation = sp_dict[\"affiliation\"]\n",
    "                    speaker_affiliation = re.split('\\s\\(',speaker_affiliation)[0]\n",
    "                    name_affiliation.append(f\"{speaker_name} ({speaker_affiliation})\")\n",
    "                name_affiliation = ' & '.join(name_affiliation)\n",
    "                title = f'{talksp[\"title\"]} - {name_affiliation}'\n",
    "                start = days[i] + ' ' + talk[\"start_time\"]\n",
    "                end   = days[i] + ' ' + talk[\"end_time\"]\n",
    "                event = buildevent(title, start, end)\n",
    "                calendar.events.add(event)\n",
    "        \n",
    "        else:\n",
    "            title = session[\"title\"]\n",
    "            start = days[i] + ' ' + session[\"start_time\"]\n",
    "            end   = days[i] + ' ' + session[\"end_time\"]\n",
    "            event = buildevent(title, start, end)\n",
    "            calendar.events.add(event)\n",
    "    print('-----')"
   ]
  },
  {
   "cell_type": "code",
   "execution_count": 13,
   "id": "1893708f-2fba-4eef-8df2-63239f537b6c",
   "metadata": {},
   "outputs": [],
   "source": [
    "with open('meeting.ics', 'w') as file:\n",
    "    file.writelines(calendar)"
   ]
  },
  {
   "cell_type": "code",
   "execution_count": 40,
   "id": "19e70a23-d4cf-401c-82ba-f2a9e21e45a9",
   "metadata": {},
   "outputs": [
    {
     "name": "stdout",
     "output_type": "stream",
     "text": [
      "name, country\n"
     ]
    }
   ],
   "source": [
    "myDict = {\"name\": \"John\", \"country\": \"Norway\"}\n",
    "mySeparator = \", \"\n",
    "\n",
    "x = mySeparator.join(myDict)\n",
    "\n",
    "print(x)"
   ]
  },
  {
   "cell_type": "code",
   "execution_count": 37,
   "id": "bb3200ec-84b9-4b89-b31d-1dac8ea85d1a",
   "metadata": {},
   "outputs": [
    {
     "data": {
      "text/plain": [
       "'UPC/CIMNE'"
      ]
     },
     "execution_count": 37,
     "metadata": {},
     "output_type": "execute_result"
    }
   ],
   "source": [
    "import re\n",
    "\n",
    "re.split('\\s\\(',speaker_affiliation)[0]"
   ]
  },
  {
   "cell_type": "code",
   "execution_count": null,
   "id": "bceefc92-4a3f-48a3-8c17-c75935bf0dda",
   "metadata": {},
   "outputs": [],
   "source": []
  }
 ],
 "metadata": {
  "kernelspec": {
   "display_name": "Python 3 (ipykernel)",
   "language": "python",
   "name": "python3"
  },
  "language_info": {
   "codemirror_mode": {
    "name": "ipython",
    "version": 3
   },
   "file_extension": ".py",
   "mimetype": "text/x-python",
   "name": "python",
   "nbconvert_exporter": "python",
   "pygments_lexer": "ipython3",
   "version": "3.11.2"
  }
 },
 "nbformat": 4,
 "nbformat_minor": 5
}
